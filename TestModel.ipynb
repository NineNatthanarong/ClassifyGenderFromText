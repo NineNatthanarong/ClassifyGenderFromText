{
 "cells": [
  {
   "cell_type": "code",
   "execution_count": 1,
   "metadata": {},
   "outputs": [
    {
     "data": {
      "text/html": [
       "<div>\n",
       "<style scoped>\n",
       "    .dataframe tbody tr th:only-of-type {\n",
       "        vertical-align: middle;\n",
       "    }\n",
       "\n",
       "    .dataframe tbody tr th {\n",
       "        vertical-align: top;\n",
       "    }\n",
       "\n",
       "    .dataframe thead th {\n",
       "        text-align: right;\n",
       "    }\n",
       "</style>\n",
       "<table border=\"1\" class=\"dataframe\">\n",
       "  <thead>\n",
       "    <tr style=\"text-align: right;\">\n",
       "      <th></th>\n",
       "      <th>sex</th>\n",
       "      <th>tweet</th>\n",
       "      <th>ค่ะ</th>\n",
       "      <th>นะคะ</th>\n",
       "      <th>คะ</th>\n",
       "      <th>ค่า</th>\n",
       "      <th>#</th>\n",
       "      <th>ตลาดนัด</th>\n",
       "      <th>ได้</th>\n",
       "      <th>ส่ง</th>\n",
       "      <th>...</th>\n",
       "      <th>โดยเฉพาะ</th>\n",
       "      <th>ธุระ</th>\n",
       "      <th>โป๊ะ</th>\n",
       "      <th>ก่า</th>\n",
       "      <th>ปวดท้อง</th>\n",
       "      <th>(...)</th>\n",
       "      <th>มัก</th>\n",
       "      <th>ดังนั้น</th>\n",
       "      <th>ทุกที่</th>\n",
       "      <th>คุณครู</th>\n",
       "    </tr>\n",
       "  </thead>\n",
       "  <tbody>\n",
       "    <tr>\n",
       "      <th>0</th>\n",
       "      <td>0</td>\n",
       "      <td>['แค่', 'มอง', 'มา', 'ก็', 'ละลาย', 'แล้ว', 'ใ...</td>\n",
       "      <td>0</td>\n",
       "      <td>0</td>\n",
       "      <td>0</td>\n",
       "      <td>0</td>\n",
       "      <td>1</td>\n",
       "      <td>0</td>\n",
       "      <td>0</td>\n",
       "      <td>0</td>\n",
       "      <td>...</td>\n",
       "      <td>0</td>\n",
       "      <td>0</td>\n",
       "      <td>0</td>\n",
       "      <td>0</td>\n",
       "      <td>0</td>\n",
       "      <td>0</td>\n",
       "      <td>0</td>\n",
       "      <td>0</td>\n",
       "      <td>0</td>\n",
       "      <td>0</td>\n",
       "    </tr>\n",
       "    <tr>\n",
       "      <th>1</th>\n",
       "      <td>0</td>\n",
       "      <td>['ฝันดี', 'คับ', 'ทุกคน']</td>\n",
       "      <td>0</td>\n",
       "      <td>0</td>\n",
       "      <td>0</td>\n",
       "      <td>0</td>\n",
       "      <td>0</td>\n",
       "      <td>0</td>\n",
       "      <td>0</td>\n",
       "      <td>0</td>\n",
       "      <td>...</td>\n",
       "      <td>0</td>\n",
       "      <td>0</td>\n",
       "      <td>0</td>\n",
       "      <td>0</td>\n",
       "      <td>0</td>\n",
       "      <td>0</td>\n",
       "      <td>0</td>\n",
       "      <td>0</td>\n",
       "      <td>0</td>\n",
       "      <td>0</td>\n",
       "    </tr>\n",
       "    <tr>\n",
       "      <th>2</th>\n",
       "      <td>0</td>\n",
       "      <td>['เดา', 'ไม่', 'เก่ง', 'แต่', 'นอน', 'เก่ง', '...</td>\n",
       "      <td>0</td>\n",
       "      <td>0</td>\n",
       "      <td>0</td>\n",
       "      <td>0</td>\n",
       "      <td>0</td>\n",
       "      <td>0</td>\n",
       "      <td>0</td>\n",
       "      <td>0</td>\n",
       "      <td>...</td>\n",
       "      <td>0</td>\n",
       "      <td>0</td>\n",
       "      <td>0</td>\n",
       "      <td>0</td>\n",
       "      <td>0</td>\n",
       "      <td>0</td>\n",
       "      <td>0</td>\n",
       "      <td>0</td>\n",
       "      <td>0</td>\n",
       "      <td>0</td>\n",
       "    </tr>\n",
       "    <tr>\n",
       "      <th>3</th>\n",
       "      <td>0</td>\n",
       "      <td>['@', '168weedog', 'สนใจ', 'คับ']</td>\n",
       "      <td>0</td>\n",
       "      <td>0</td>\n",
       "      <td>0</td>\n",
       "      <td>0</td>\n",
       "      <td>0</td>\n",
       "      <td>0</td>\n",
       "      <td>0</td>\n",
       "      <td>0</td>\n",
       "      <td>...</td>\n",
       "      <td>0</td>\n",
       "      <td>0</td>\n",
       "      <td>0</td>\n",
       "      <td>0</td>\n",
       "      <td>0</td>\n",
       "      <td>0</td>\n",
       "      <td>0</td>\n",
       "      <td>0</td>\n",
       "      <td>0</td>\n",
       "      <td>0</td>\n",
       "    </tr>\n",
       "    <tr>\n",
       "      <th>4</th>\n",
       "      <td>0</td>\n",
       "      <td>['@', 'peachbyx', '!!!!!!!', 'แฮปปี้', 'เบิ้ด'...</td>\n",
       "      <td>0</td>\n",
       "      <td>0</td>\n",
       "      <td>0</td>\n",
       "      <td>0</td>\n",
       "      <td>0</td>\n",
       "      <td>0</td>\n",
       "      <td>0</td>\n",
       "      <td>0</td>\n",
       "      <td>...</td>\n",
       "      <td>0</td>\n",
       "      <td>0</td>\n",
       "      <td>0</td>\n",
       "      <td>0</td>\n",
       "      <td>0</td>\n",
       "      <td>0</td>\n",
       "      <td>0</td>\n",
       "      <td>0</td>\n",
       "      <td>0</td>\n",
       "      <td>0</td>\n",
       "    </tr>\n",
       "  </tbody>\n",
       "</table>\n",
       "<p>5 rows × 10002 columns</p>\n",
       "</div>"
      ],
      "text/plain": [
       "   sex                                              tweet  ค่ะ  นะคะ  คะ  ค่า  \\\n",
       "0    0  ['แค่', 'มอง', 'มา', 'ก็', 'ละลาย', 'แล้ว', 'ใ...    0     0   0    0   \n",
       "1    0                          ['ฝันดี', 'คับ', 'ทุกคน']    0     0   0    0   \n",
       "2    0  ['เดา', 'ไม่', 'เก่ง', 'แต่', 'นอน', 'เก่ง', '...    0     0   0    0   \n",
       "3    0                  ['@', '168weedog', 'สนใจ', 'คับ']    0     0   0    0   \n",
       "4    0  ['@', 'peachbyx', '!!!!!!!', 'แฮปปี้', 'เบิ้ด'...    0     0   0    0   \n",
       "\n",
       "   #  ตลาดนัด  ได้  ส่ง  ...  โดยเฉพาะ  ธุระ  โป๊ะ  ก่า  ปวดท้อง  (...)  มัก  \\\n",
       "0  1        0    0    0  ...         0     0     0    0        0      0    0   \n",
       "1  0        0    0    0  ...         0     0     0    0        0      0    0   \n",
       "2  0        0    0    0  ...         0     0     0    0        0      0    0   \n",
       "3  0        0    0    0  ...         0     0     0    0        0      0    0   \n",
       "4  0        0    0    0  ...         0     0     0    0        0      0    0   \n",
       "\n",
       "   ดังนั้น  ทุกที่  คุณครู  \n",
       "0        0       0       0  \n",
       "1        0       0       0  \n",
       "2        0       0       0  \n",
       "3        0       0       0  \n",
       "4        0       0       0  \n",
       "\n",
       "[5 rows x 10002 columns]"
      ]
     },
     "execution_count": 1,
     "metadata": {},
     "output_type": "execute_result"
    }
   ],
   "source": [
    "#import dataframe\n",
    "import pandas as pd\n",
    "df=pd.read_csv('50000dataready.csv')\n",
    "df.head()"
   ]
  },
  {
   "cell_type": "code",
   "execution_count": 18,
   "metadata": {},
   "outputs": [],
   "source": [
    "#split data\n",
    "from sklearn.model_selection import train_test_split\n",
    "X = df.iloc[:, 2:].values \n",
    "Y = df.iloc[:, 0].values \n",
    "X_train, X_test, y_train, y_test = train_test_split(X, Y, test_size=0.1, random_state=32)"
   ]
  },
  {
   "cell_type": "code",
   "execution_count": 23,
   "metadata": {},
   "outputs": [
    {
     "data": {
      "text/plain": [
       "LogisticRegression(max_iter=50000)"
      ]
     },
     "execution_count": 23,
     "metadata": {},
     "output_type": "execute_result"
    }
   ],
   "source": [
    "#Logistic Regression\n",
    "from sklearn.linear_model import LogisticRegression\n",
    "lr = LogisticRegression(solver='lbfgs',max_iter=50000)\n",
    "lr.fit(X_train,y_train)"
   ]
  },
  {
   "cell_type": "code",
   "execution_count": 24,
   "metadata": {},
   "outputs": [
    {
     "name": "stdout",
     "output_type": "stream",
     "text": [
      "Logistic Regression   0.9607921584316863\n"
     ]
    }
   ],
   "source": [
    "# #accurry of predict\n",
    "from sklearn.metrics import accuracy_score\n",
    "print(\"Logistic Regression  \",accuracy_score(y_test, lr.predict(X_test)))"
   ]
  },
  {
   "cell_type": "code",
   "execution_count": 27,
   "metadata": {},
   "outputs": [],
   "source": [
    "import pickle\n",
    "with open('model.pkl', 'wb') as model_file:\n",
    "  pickle.dump(lr, model_file)"
   ]
  },
  {
   "cell_type": "code",
   "execution_count": 31,
   "metadata": {},
   "outputs": [],
   "source": [
    "from pythainlp import word_tokenize"
   ]
  },
  {
   "cell_type": "code",
   "execution_count": 32,
   "metadata": {},
   "outputs": [],
   "source": [
    "def encode(data) :\n",
    "    data = word_tokenize(data,engine=\"longest\",keep_whitespace=False)\n",
    "    x = []\n",
    "    for i in list(df.columns[2:]) :\n",
    "        if i in data :\n",
    "            x.append(1)\n",
    "        else :\n",
    "            x.append(0)\n",
    "    return(x)"
   ]
  },
  {
   "cell_type": "code",
   "execution_count": 37,
   "metadata": {},
   "outputs": [
    {
     "name": "stdout",
     "output_type": "stream",
     "text": [
      "[[0.48904555 0.51095445]]\n"
     ]
    }
   ],
   "source": [
    "print(lr.predict_proba([encode('')]))"
   ]
  }
 ],
 "metadata": {
  "kernelspec": {
   "display_name": "Python 3.9.7 ('base')",
   "language": "python",
   "name": "python3"
  },
  "language_info": {
   "codemirror_mode": {
    "name": "ipython",
    "version": 3
   },
   "file_extension": ".py",
   "mimetype": "text/x-python",
   "name": "python",
   "nbconvert_exporter": "python",
   "pygments_lexer": "ipython3",
   "version": "3.9.7"
  },
  "orig_nbformat": 4,
  "vscode": {
   "interpreter": {
    "hash": "a3c8d00f6639281eb4df1a4a74e5d1445e4a52f04265795b6cc4593b17d837a3"
   }
  }
 },
 "nbformat": 4,
 "nbformat_minor": 2
}
