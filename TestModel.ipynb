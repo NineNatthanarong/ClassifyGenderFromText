{
 "cells": [
  {
   "cell_type": "code",
   "execution_count": 1,
   "metadata": {},
   "outputs": [
    {
     "data": {
      "text/html": [
       "<div>\n",
       "<style scoped>\n",
       "    .dataframe tbody tr th:only-of-type {\n",
       "        vertical-align: middle;\n",
       "    }\n",
       "\n",
       "    .dataframe tbody tr th {\n",
       "        vertical-align: top;\n",
       "    }\n",
       "\n",
       "    .dataframe thead th {\n",
       "        text-align: right;\n",
       "    }\n",
       "</style>\n",
       "<table border=\"1\" class=\"dataframe\">\n",
       "  <thead>\n",
       "    <tr style=\"text-align: right;\">\n",
       "      <th></th>\n",
       "      <th>sex</th>\n",
       "      <th>tweet</th>\n",
       "      <th>@</th>\n",
       "      <th>brnexrose</th>\n",
       "      <th>คอน</th>\n",
       "      <th>เท้</th>\n",
       "      <th>นกันค</th>\n",
       "      <th>รับ</th>\n",
       "      <th>https</th>\n",
       "      <th>://</th>\n",
       "      <th>...</th>\n",
       "      <th>de6k4fw2jm</th>\n",
       "      <th>giffy76465856</th>\n",
       "      <th>kunch60862546</th>\n",
       "      <th>ateera49</th>\n",
       "      <th>little2bunny</th>\n",
       "      <th>noon</th>\n",
       "      <th>praenoon</th>\n",
       "      <th>wiwarinx</th>\n",
       "      <th>wikanda</th>\n",
       "      <th>paa</th>\n",
       "    </tr>\n",
       "  </thead>\n",
       "  <tbody>\n",
       "    <tr>\n",
       "      <th>0</th>\n",
       "      <td>0</td>\n",
       "      <td>['@', 'brnexrose', 'คอน', 'เท้', 'นกันค', 'รับ...</td>\n",
       "      <td>1</td>\n",
       "      <td>1</td>\n",
       "      <td>1</td>\n",
       "      <td>1</td>\n",
       "      <td>1</td>\n",
       "      <td>1</td>\n",
       "      <td>1</td>\n",
       "      <td>1</td>\n",
       "      <td>...</td>\n",
       "      <td>0</td>\n",
       "      <td>0</td>\n",
       "      <td>0</td>\n",
       "      <td>0</td>\n",
       "      <td>0</td>\n",
       "      <td>0</td>\n",
       "      <td>0</td>\n",
       "      <td>0</td>\n",
       "      <td>0</td>\n",
       "      <td>0</td>\n",
       "    </tr>\n",
       "    <tr>\n",
       "      <th>1</th>\n",
       "      <td>0</td>\n",
       "      <td>['อยู่', 'บ้าน', 'ดอน', 'สุราษฎร์', 'ครับ', 'ท...</td>\n",
       "      <td>0</td>\n",
       "      <td>0</td>\n",
       "      <td>0</td>\n",
       "      <td>0</td>\n",
       "      <td>0</td>\n",
       "      <td>0</td>\n",
       "      <td>0</td>\n",
       "      <td>0</td>\n",
       "      <td>...</td>\n",
       "      <td>0</td>\n",
       "      <td>0</td>\n",
       "      <td>0</td>\n",
       "      <td>0</td>\n",
       "      <td>0</td>\n",
       "      <td>0</td>\n",
       "      <td>0</td>\n",
       "      <td>0</td>\n",
       "      <td>0</td>\n",
       "      <td>0</td>\n",
       "    </tr>\n",
       "    <tr>\n",
       "      <th>2</th>\n",
       "      <td>0</td>\n",
       "      <td>['แมว', 'ส้ม', 'ฮี', 'ล', 'ใจ', 'ไหม', 'ค้าบ',...</td>\n",
       "      <td>0</td>\n",
       "      <td>0</td>\n",
       "      <td>0</td>\n",
       "      <td>0</td>\n",
       "      <td>0</td>\n",
       "      <td>0</td>\n",
       "      <td>1</td>\n",
       "      <td>1</td>\n",
       "      <td>...</td>\n",
       "      <td>0</td>\n",
       "      <td>0</td>\n",
       "      <td>0</td>\n",
       "      <td>0</td>\n",
       "      <td>0</td>\n",
       "      <td>0</td>\n",
       "      <td>0</td>\n",
       "      <td>0</td>\n",
       "      <td>0</td>\n",
       "      <td>0</td>\n",
       "    </tr>\n",
       "    <tr>\n",
       "      <th>3</th>\n",
       "      <td>0</td>\n",
       "      <td>['ขอบคุณ', 'ที่', 'ลงข่าว', 'น้อง', 'แพท', 'ค้...</td>\n",
       "      <td>1</td>\n",
       "      <td>0</td>\n",
       "      <td>0</td>\n",
       "      <td>0</td>\n",
       "      <td>0</td>\n",
       "      <td>0</td>\n",
       "      <td>0</td>\n",
       "      <td>0</td>\n",
       "      <td>...</td>\n",
       "      <td>0</td>\n",
       "      <td>0</td>\n",
       "      <td>0</td>\n",
       "      <td>0</td>\n",
       "      <td>0</td>\n",
       "      <td>0</td>\n",
       "      <td>0</td>\n",
       "      <td>0</td>\n",
       "      <td>0</td>\n",
       "      <td>0</td>\n",
       "    </tr>\n",
       "    <tr>\n",
       "      <th>4</th>\n",
       "      <td>0</td>\n",
       "      <td>[':', 'งาน', 'ถนัด', 'ผม', 'เลย', 'ครับ', 'ดู'...</td>\n",
       "      <td>0</td>\n",
       "      <td>0</td>\n",
       "      <td>0</td>\n",
       "      <td>0</td>\n",
       "      <td>0</td>\n",
       "      <td>0</td>\n",
       "      <td>0</td>\n",
       "      <td>0</td>\n",
       "      <td>...</td>\n",
       "      <td>0</td>\n",
       "      <td>0</td>\n",
       "      <td>0</td>\n",
       "      <td>0</td>\n",
       "      <td>0</td>\n",
       "      <td>0</td>\n",
       "      <td>0</td>\n",
       "      <td>0</td>\n",
       "      <td>0</td>\n",
       "      <td>0</td>\n",
       "    </tr>\n",
       "  </tbody>\n",
       "</table>\n",
       "<p>5 rows × 14797 columns</p>\n",
       "</div>"
      ],
      "text/plain": [
       "   sex                                              tweet  @  brnexrose  คอน  \\\n",
       "0    0  ['@', 'brnexrose', 'คอน', 'เท้', 'นกันค', 'รับ...  1          1    1   \n",
       "1    0  ['อยู่', 'บ้าน', 'ดอน', 'สุราษฎร์', 'ครับ', 'ท...  0          0    0   \n",
       "2    0  ['แมว', 'ส้ม', 'ฮี', 'ล', 'ใจ', 'ไหม', 'ค้าบ',...  0          0    0   \n",
       "3    0  ['ขอบคุณ', 'ที่', 'ลงข่าว', 'น้อง', 'แพท', 'ค้...  1          0    0   \n",
       "4    0  [':', 'งาน', 'ถนัด', 'ผม', 'เลย', 'ครับ', 'ดู'...  0          0    0   \n",
       "\n",
       "   เท้  นกันค  รับ  https  ://  ...  de6k4fw2jm  giffy76465856  kunch60862546  \\\n",
       "0    1      1    1      1    1  ...           0              0              0   \n",
       "1    0      0    0      0    0  ...           0              0              0   \n",
       "2    0      0    0      1    1  ...           0              0              0   \n",
       "3    0      0    0      0    0  ...           0              0              0   \n",
       "4    0      0    0      0    0  ...           0              0              0   \n",
       "\n",
       "   ateera49  little2bunny  noon  praenoon  wiwarinx  wikanda  paa  \n",
       "0         0             0     0         0         0        0    0  \n",
       "1         0             0     0         0         0        0    0  \n",
       "2         0             0     0         0         0        0    0  \n",
       "3         0             0     0         0         0        0    0  \n",
       "4         0             0     0         0         0        0    0  \n",
       "\n",
       "[5 rows x 14797 columns]"
      ]
     },
     "execution_count": 1,
     "metadata": {},
     "output_type": "execute_result"
    }
   ],
   "source": [
    "#import dataframe\n",
    "import pandas as pd\n",
    "df=pd.read_csv('5000fist.csv')\n",
    "df.head()"
   ]
  },
  {
   "cell_type": "code",
   "execution_count": 2,
   "metadata": {},
   "outputs": [],
   "source": [
    "relative = df.corr()"
   ]
  },
  {
   "cell_type": "code",
   "execution_count": 19,
   "metadata": {},
   "outputs": [
    {
     "data": {
      "text/plain": [
       "Index(['sex', 'ค่ะ', 'นะคะ', 'คะ', 'ค่า', '#', 'ตลาดนัด', 'ได้', 'ส่ง', 'ไม่',\n",
       "       'เรา', '.', 'https', '://', 'co', 't', '/', 'ราคา', 'การ์ด', 'มี',\n",
       "       'ที่', 'ใบ', '-', 'nct', 'เพิ่มเติม', 'กด', 'สอบถาม', 'แต่', 'ให้',\n",
       "       'เลย', 'พร้อม'],\n",
       "      dtype='object')"
      ]
     },
     "execution_count": 19,
     "metadata": {},
     "output_type": "execute_result"
    }
   ],
   "source": [
    "relativelargest = relative.nlargest(5001,'sex')\n",
    "relativelargest.head(31).index"
   ]
  },
  {
   "cell_type": "code",
   "execution_count": 18,
   "metadata": {},
   "outputs": [
    {
     "data": {
      "text/plain": [
       "Index(['ครับ', 'ค้าบ', 'คับ', '@', 'ผม', 'บบ', 'คับบ', 'บ', 'ครับผม', 'cwrnew',\n",
       "       'บบบ', 'ฝันดี', 'จัง', 'บบบบ', 'mynameis', 'yim', 'หน่อย', 'eln',\n",
       "       'kulthip2', 'งดัง', 'best', 'ohmpawatt', 'leader', 'คับๆ', 'dr', 'น่า',\n",
       "       'เลีย', 'blackla55564262', 'ยินดีต้อนรับ', 'ครับๆ'],\n",
       "      dtype='object')"
      ]
     },
     "execution_count": 18,
     "metadata": {},
     "output_type": "execute_result"
    }
   ],
   "source": [
    "relativesmallest = relative.nsmallest(5000,'sex')\n",
    "relativesmallest.head(30).index"
   ]
  },
  {
   "cell_type": "code",
   "execution_count": 5,
   "metadata": {},
   "outputs": [],
   "source": [
    "relativelargestindex = list(relativelargest.index)\n",
    "del relativelargestindex[0]\n",
    "relativesmallestindex = list(relativesmallest.index)\n",
    "# del relativesmallestindex[0:4]\n",
    "lindex = [*relativelargestindex , *relativesmallestindex]\n",
    "# print(lindex)"
   ]
  },
  {
   "cell_type": "code",
   "execution_count": 6,
   "metadata": {},
   "outputs": [],
   "source": [
    "#split data\n",
    "from sklearn.model_selection import train_test_split\n",
    "X = df[lindex]\n",
    "Y = df.iloc[:, 0].values \n",
    "X_train, X_test, y_train, y_test = train_test_split(X, Y, test_size=0.2, random_state=32)"
   ]
  },
  {
   "cell_type": "code",
   "execution_count": 20,
   "metadata": {},
   "outputs": [],
   "source": [
    "# scaling\n",
    "# from sklearn.preprocessing import StandardScaler\n",
    "# sc = StandardScaler()\n",
    "# X_train = sc.fit_transform(X_train)\n",
    "# X_test = sc.transform(X_test)"
   ]
  },
  {
   "cell_type": "code",
   "execution_count": 7,
   "metadata": {},
   "outputs": [
    {
     "data": {
      "text/plain": [
       "RandomForestClassifier()"
      ]
     },
     "execution_count": 7,
     "metadata": {},
     "output_type": "execute_result"
    }
   ],
   "source": [
    "#Logistic Regression\n",
    "from sklearn.linear_model import LogisticRegression\n",
    "lr = LogisticRegression()\n",
    "lr.fit(X_train,y_train)\n",
    "#KNN\n",
    "from sklearn.neighbors import KNeighborsClassifier\n",
    "knn = KNeighborsClassifier()\n",
    "knn.fit(X_train,y_train)\n",
    "#SVC linear\n",
    "from sklearn.svm import SVC\n",
    "svc_linear = SVC(kernel='linear')\n",
    "svc_linear.fit(X_train,y_train)\n",
    "#SVC RBF\n",
    "from sklearn.svm import SVC\n",
    "svc_rbf = SVC(kernel='rbf')\n",
    "svc_rbf.fit(X_train,y_train)\n",
    "#GaussianNB\n",
    "from sklearn.naive_bayes import GaussianNB\n",
    "gaussian_nb = GaussianNB()\n",
    "gaussian_nb.fit(X_train,y_train)\n",
    "#Decistion Tree\n",
    "from sklearn.tree import DecisionTreeClassifier\n",
    "tree = DecisionTreeClassifier()\n",
    "tree.fit(X_train,y_train)\n",
    "#RandomForest\n",
    "from sklearn.ensemble import RandomForestClassifier\n",
    "randomForest = RandomForestClassifier()\n",
    "randomForest.fit(X_train,y_train)"
   ]
  },
  {
   "cell_type": "code",
   "execution_count": 8,
   "metadata": {},
   "outputs": [
    {
     "name": "stdout",
     "output_type": "stream",
     "text": [
      "Logistic Regression   0.96\n",
      "KNN                   0.919\n",
      "SVC linear            0.962\n",
      "SVC RBF               0.954\n",
      "GaussianNB            0.617\n",
      "Decistion Tree        0.946\n",
      "RandomForest          0.947\n"
     ]
    }
   ],
   "source": [
    "#accurry of predict\n",
    "from sklearn.metrics import accuracy_score\n",
    "print(\"Logistic Regression  \",accuracy_score(y_test, lr.predict(X_test)))\n",
    "print(\"KNN                  \",accuracy_score(y_test, knn.predict(X_test)))\n",
    "print(\"SVC linear           \",accuracy_score(y_test, svc_linear.predict(X_test)))\n",
    "print(\"SVC RBF              \",accuracy_score(y_test, svc_rbf.predict(X_test)))\n",
    "print(\"GaussianNB           \",accuracy_score(y_test, gaussian_nb.predict(X_test)))\n",
    "print(\"Decistion Tree       \",accuracy_score(y_test, tree.predict(X_test)))\n",
    "print(\"RandomForest         \",accuracy_score(y_test, randomForest.predict(X_test)))"
   ]
  },
  {
   "cell_type": "code",
   "execution_count": 10,
   "metadata": {},
   "outputs": [
    {
     "data": {
      "text/plain": [
       "LogisticRegression()"
      ]
     },
     "execution_count": 10,
     "metadata": {},
     "output_type": "execute_result"
    }
   ],
   "source": [
    "from sklearn.model_selection import GridSearchCV\n",
    "import numpy as np\n",
    "parameters = {'C': np.arange(1,10,0.5)}\n",
    "best = GridSearchCV(lr, parameters, cv=5)\n",
    "best.fit(X_train,y_train)\n",
    "best.best_estimator_"
   ]
  },
  {
   "cell_type": "code",
   "execution_count": 10,
   "metadata": {},
   "outputs": [],
   "source": [
    "import pickle\n",
    "with open('model.pkl', 'wb') as model_file:\n",
    "  pickle.dump(lr, model_file)"
   ]
  },
  {
   "cell_type": "code",
   "execution_count": 11,
   "metadata": {},
   "outputs": [
    {
     "name": "stdout",
     "output_type": "stream",
     "text": [
      "accuracy_score : 96.50 %\n"
     ]
    }
   ],
   "source": [
    "#accuracy_score\n",
    "print('accuracy_score : {:.2f} %'.format(accuracy_score(y_test, lr.predict(X_test))*100))"
   ]
  },
  {
   "cell_type": "code",
   "execution_count": 11,
   "metadata": {},
   "outputs": [],
   "source": [
    "from pythainlp import word_tokenize"
   ]
  },
  {
   "cell_type": "code",
   "execution_count": 12,
   "metadata": {},
   "outputs": [],
   "source": [
    "def encode(data) :\n",
    "    data = word_tokenize(data,engine=\"longest\",keep_whitespace=False)\n",
    "    x = []\n",
    "    for i in lindex :\n",
    "        if i in data :\n",
    "            x.append(1)\n",
    "        else :\n",
    "            x.append(0)\n",
    "    return(x)"
   ]
  },
  {
   "cell_type": "code",
   "execution_count": 13,
   "metadata": {},
   "outputs": [
    {
     "name": "stdout",
     "output_type": "stream",
     "text": [
      "[[0.47057296 0.52942704]]\n"
     ]
    }
   ],
   "source": [
    "print(lr.predict_proba([encode('')]))"
   ]
  }
 ],
 "metadata": {
  "kernelspec": {
   "display_name": "Python 3.9.7 ('base')",
   "language": "python",
   "name": "python3"
  },
  "language_info": {
   "codemirror_mode": {
    "name": "ipython",
    "version": 3
   },
   "file_extension": ".py",
   "mimetype": "text/x-python",
   "name": "python",
   "nbconvert_exporter": "python",
   "pygments_lexer": "ipython3",
   "version": "3.9.7"
  },
  "orig_nbformat": 4,
  "vscode": {
   "interpreter": {
    "hash": "a3c8d00f6639281eb4df1a4a74e5d1445e4a52f04265795b6cc4593b17d837a3"
   }
  }
 },
 "nbformat": 4,
 "nbformat_minor": 2
}
